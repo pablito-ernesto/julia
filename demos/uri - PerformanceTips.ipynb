{
 "cells": [
  {
   "cell_type": "markdown",
   "metadata": {},
   "source": [
    "# Optimización de performance"
   ]
  },
  {
   "cell_type": "markdown",
   "metadata": {},
   "source": [
    "Evitar variables globales: ¿qué sucede con el compilador?"
   ]
  },
  {
   "cell_type": "code",
   "execution_count": 1,
   "metadata": {},
   "outputs": [
    {
     "data": {
      "text/plain": [
       "1000×1000 Array{Float64,2}:\n",
       " 0.48395    0.291437   0.286854    …  0.505113   0.815323   0.444022 \n",
       " 0.814194   0.842729   0.535617       0.458268   0.480075   0.801101 \n",
       " 0.430665   0.59419    0.950514       0.218688   0.665771   0.715789 \n",
       " 0.608295   0.660386   0.0755761      0.0825503  0.505926   0.898122 \n",
       " 0.343475   0.0586935  0.177195       0.483827   0.405144   0.596541 \n",
       " 0.393671   0.347296   0.878146    …  0.093587   0.727546   0.0864433\n",
       " 0.380984   0.887775   0.806687       0.65902    0.290493   0.411635 \n",
       " 0.259834   0.538151   0.412782       0.0494153  0.0694059  0.918574 \n",
       " 0.505491   0.842588   0.461904       0.438825   0.41342    0.46653  \n",
       " 0.843378   0.811042   0.914649       0.116432   0.792279   0.0358602\n",
       " 0.631013   0.78837    0.685348    …  0.145372   0.0801918  0.258188 \n",
       " 0.898422   0.83187    0.302495       0.334742   0.200203   0.302883 \n",
       " 0.0591265  0.24688    0.0341487      0.736581   0.788352   0.0209348\n",
       " ⋮                                 ⋱                                 \n",
       " 0.573182   0.546671   0.333944       0.692867   0.262274   0.825186 \n",
       " 0.376742   0.814481   0.939295       0.170265   0.841551   0.669138 \n",
       " 0.434976   0.129685   0.53674     …  0.687724   0.062518   0.246692 \n",
       " 0.193225   0.864373   0.039908       0.146628   0.869248   0.816617 \n",
       " 0.893927   0.0275549  0.188842       0.500505   0.229117   0.116882 \n",
       " 0.281199   0.540517   0.84756        0.64066    0.284541   0.896788 \n",
       " 0.315332   0.432963   0.477103       0.968957   0.392816   0.904578 \n",
       " 0.422447   0.581302   0.696673    …  0.775341   0.449802   0.768495 \n",
       " 0.0854189  0.201733   0.20594        0.355237   0.178765   0.0613383\n",
       " 0.915172   0.018112   0.594224       0.910593   0.665148   0.764951 \n",
       " 0.442388   0.144103   0.827371       0.173264   0.35535    0.234472 \n",
       " 0.186964   0.645447   0.00387902     0.381303   0.57766    0.741339 "
      ]
     },
     "execution_count": 1,
     "metadata": {},
     "output_type": "execute_result"
    }
   ],
   "source": [
    "c = rand(1000,1000)\n",
    "d = rand(1000,1000)"
   ]
  },
  {
   "cell_type": "code",
   "execution_count": 2,
   "metadata": {},
   "outputs": [
    {
     "name": "stdout",
     "output_type": "stream",
     "text": [
      "  0.356839 seconds (893.97 k allocations: 50.222 MiB, 2.68% gc time)\n"
     ]
    },
    {
     "data": {
      "text/plain": [
       "1000×1000 Array{Float64,2}:\n",
       " 245.537  253.919  259.701  250.221  …  257.845  250.227  258.92   250.341\n",
       " 246.337  252.388  251.196  249.677     250.484  246.335  250.265  248.419\n",
       " 248.225  250.337  256.792  253.107     257.227  250.44   254.62   255.843\n",
       " 248.751  253.711  254.878  247.682     256.767  238.937  258.265  249.672\n",
       " 241.73   242.885  252.058  239.694     247.136  243.46   244.918  243.0  \n",
       " 243.665  255.169  254.054  253.081  …  253.716  252.06   253.441  250.089\n",
       " 237.445  245.828  243.69   242.404     243.498  244.181  245.478  240.819\n",
       " 252.171  251.047  262.922  256.653     254.886  250.076  255.933  253.587\n",
       " 240.321  251.051  251.62   239.43      247.968  240.515  246.164  244.846\n",
       " 243.585  248.144  250.348  247.135     253.315  245.169  253.202  249.749\n",
       " 241.714  252.19   245.176  243.279  …  244.006  244.367  251.135  242.821\n",
       " 243.25   242.467  253.374  246.878     249.28   247.469  251.748  243.263\n",
       " 241.328  243.16   252.514  247.772     246.095  242.572  252.95   244.28 \n",
       "   ⋮                                 ⋱                                    \n",
       " 241.416  242.416  250.958  244.71      250.262  246.089  250.8    242.847\n",
       " 248.636  247.015  258.519  247.096     254.96   248.566  250.689  244.462\n",
       " 248.148  255.314  257.985  255.155  …  262.011  253.821  257.595  255.555\n",
       " 255.687  264.532  266.954  258.537     258.758  257.069  259.127  256.841\n",
       " 235.785  243.395  242.067  241.619     239.908  238.535  243.462  237.569\n",
       " 235.592  243.604  248.55   240.698     246.104  242.663  242.0    242.459\n",
       " 242.199  251.157  253.471  247.301     253.214  246.843  249.489  250.605\n",
       " 245.511  248.365  254.4    240.685  …  247.22   248.179  243.945  244.704\n",
       " 243.516  253.535  260.374  252.394     257.076  248.398  257.043  250.012\n",
       " 248.242  250.966  257.658  251.633     255.232  254.772  261.247  255.386\n",
       " 244.168  246.247  248.649  243.078     244.527  245.906  247.295  248.918\n",
       " 241.407  244.919  257.66   243.134     251.103  245.527  249.738  248.165"
      ]
     },
     "execution_count": 2,
     "metadata": {},
     "output_type": "execute_result"
    }
   ],
   "source": [
    "@time c*d"
   ]
  },
  {
   "cell_type": "code",
   "execution_count": 3,
   "metadata": {},
   "outputs": [
    {
     "data": {
      "text/plain": [
       "mult_n (generic function with 1 method)"
      ]
     },
     "execution_count": 3,
     "metadata": {},
     "output_type": "execute_result"
    }
   ],
   "source": [
    "function mult_n(n)\n",
    "    a = rand(n, n)\n",
    "    b = rand(n, n)\n",
    "        return a*b\n",
    "end"
   ]
  },
  {
   "cell_type": "code",
   "execution_count": 5,
   "metadata": {},
   "outputs": [
    {
     "name": "stdout",
     "output_type": "stream",
     "text": [
      "  0.046333 seconds (6.09 k allocations: 23.160 MiB, 8.40% gc time)\n"
     ]
    },
    {
     "data": {
      "text/plain": [
       "1000×1000 Array{Float64,2}:\n",
       " 257.166  258.969  251.529  266.113  …  248.664  248.9    253.767  257.958\n",
       " 261.955  261.226  244.753  270.476     255.945  257.095  259.908  264.282\n",
       " 252.301  254.635  244.503  253.994     244.132  241.645  247.399  254.454\n",
       " 253.533  241.684  240.572  253.577     238.002  243.699  246.616  251.758\n",
       " 257.865  256.562  246.854  258.545     245.37   249.394  249.303  257.104\n",
       " 255.359  254.027  248.896  257.96   …  242.748  243.818  254.731  259.097\n",
       " 253.724  257.997  245.755  262.168     244.589  244.226  251.105  257.423\n",
       " 258.25   260.364  248.225  269.821     247.026  257.437  256.537  256.564\n",
       " 254.336  250.624  241.805  251.641     241.221  246.535  242.962  255.108\n",
       " 252.622  257.91   244.274  253.141     241.318  243.055  248.985  250.241\n",
       " 250.329  244.47   240.144  251.799  …  239.875  242.682  247.165  251.137\n",
       " 250.091  248.303  240.744  255.194     240.55   242.432  243.896  251.516\n",
       " 241.644  250.99   238.407  258.235     241.939  244.151  240.64   253.597\n",
       "   ⋮                                 ⋱                                    \n",
       " 259.047  260.744  247.785  259.569     246.352  247.694  251.277  257.271\n",
       " 247.573  244.84   237.642  252.141     238.418  238.055  241.379  249.197\n",
       " 254.536  259.351  242.683  261.244  …  248.342  253.187  251.712  262.472\n",
       " 260.012  260.743  255.089  267.635     254.378  259.901  256.82   263.373\n",
       " 264.636  260.497  253.446  266.416     253.564  258.813  260.601  265.644\n",
       " 249.96   252.184  247.001  254.203     243.709  245.454  246.632  250.169\n",
       " 250.973  247.957  235.689  257.514     239.858  245.042  248.612  255.262\n",
       " 247.611  246.129  237.672  255.384  …  235.51   242.741  245.214  249.676\n",
       " 250.893  249.214  238.909  254.774     236.849  242.839  242.718  252.158\n",
       " 253.831  253.089  239.851  248.254     241.571  242.214  240.173  248.887\n",
       " 255.543  255.48   242.791  262.067     249.454  252.407  252.63   255.006\n",
       " 257.745  257.848  248.391  261.371     244.427  248.441  254.046  253.934"
      ]
     },
     "execution_count": 5,
     "metadata": {},
     "output_type": "execute_result"
    }
   ],
   "source": [
    "@time mult_n(1000)"
   ]
  },
  {
   "cell_type": "markdown",
   "metadata": {},
   "source": [
    "Evitar campos con tipos abstractos: ¿qué usa el compilador para compilar?"
   ]
  },
  {
   "cell_type": "code",
   "execution_count": 6,
   "metadata": {},
   "outputs": [],
   "source": [
    "struct MiTipoAmbiguo\n",
    "    dato\n",
    "end"
   ]
  },
  {
   "cell_type": "code",
   "execution_count": 7,
   "metadata": {},
   "outputs": [
    {
     "data": {
      "text/plain": [
       "MiTipoAmbiguo(\"Hola\")"
      ]
     },
     "execution_count": 7,
     "metadata": {},
     "output_type": "execute_result"
    }
   ],
   "source": [
    "instancia1 = MiTipoAmbiguo(3)\n",
    "instancia2 = MiTipoAmbiguo(\"Hola\")"
   ]
  },
  {
   "cell_type": "code",
   "execution_count": 8,
   "metadata": {},
   "outputs": [
    {
     "data": {
      "text/plain": [
       "MiTipoAmbiguo"
      ]
     },
     "execution_count": 8,
     "metadata": {},
     "output_type": "execute_result"
    }
   ],
   "source": [
    "typeof(instancia1)"
   ]
  },
  {
   "cell_type": "code",
   "execution_count": 9,
   "metadata": {},
   "outputs": [
    {
     "data": {
      "text/plain": [
       "MiTipoAmbiguo"
      ]
     },
     "execution_count": 9,
     "metadata": {},
     "output_type": "execute_result"
    }
   ],
   "source": [
    "typeof(instancia2)"
   ]
  },
  {
   "cell_type": "code",
   "execution_count": 10,
   "metadata": {},
   "outputs": [],
   "source": [
    "struct MiTipo{T<:AbstractFloat}\n",
    "    a::T\n",
    "end"
   ]
  },
  {
   "cell_type": "code",
   "execution_count": 11,
   "metadata": {},
   "outputs": [
    {
     "data": {
      "text/plain": [
       "MiTipo{Float64}"
      ]
     },
     "execution_count": 11,
     "metadata": {},
     "output_type": "execute_result"
    }
   ],
   "source": [
    "instancia3 = MiTipo(3.0)\n",
    "typeof(instancia3)"
   ]
  },
  {
   "cell_type": "markdown",
   "metadata": {},
   "source": [
    "Escribir funciones con tipos estables."
   ]
  },
  {
   "cell_type": "code",
   "execution_count": 15,
   "metadata": {},
   "outputs": [
    {
     "data": {
      "text/plain": [
       "fixPos (generic function with 1 method)"
      ]
     },
     "execution_count": 15,
     "metadata": {},
     "output_type": "execute_result"
    }
   ],
   "source": [
    "fixPos(x) = x < 0 ? zero(x) : x"
   ]
  },
  {
   "cell_type": "code",
   "execution_count": 41,
   "metadata": {},
   "outputs": [
    {
     "data": {
      "text/plain": [
       "Float64"
      ]
     },
     "execution_count": 41,
     "metadata": {},
     "output_type": "execute_result"
    }
   ],
   "source": [
    "typeof(fixPos(12.3))"
   ]
  },
  {
   "cell_type": "code",
   "execution_count": 42,
   "metadata": {},
   "outputs": [
    {
     "data": {
      "text/plain": [
       "Float64"
      ]
     },
     "execution_count": 42,
     "metadata": {},
     "output_type": "execute_result"
    }
   ],
   "source": [
    "typeof(fixPos(-4.0))"
   ]
  },
  {
   "cell_type": "markdown",
   "metadata": {},
   "source": [
    "Evitar cambiar el tipo de una variable dentro de una función"
   ]
  },
  {
   "cell_type": "code",
   "execution_count": 32,
   "metadata": {},
   "outputs": [
    {
     "data": {
      "text/plain": [
       "foo (generic function with 1 method)"
      ]
     },
     "execution_count": 32,
     "metadata": {},
     "output_type": "execute_result"
    }
   ],
   "source": [
    "function foo()\n",
    "    x = 1\n",
    "    for i = 1:10\n",
    "        x /= rand()\n",
    "    end\n",
    "    return x\n",
    "end"
   ]
  },
  {
   "cell_type": "code",
   "execution_count": 33,
   "metadata": {},
   "outputs": [
    {
     "name": "stdout",
     "output_type": "stream",
     "text": [
      "  0.023822 seconds (23.55 k allocations: 1.244 MiB)\n"
     ]
    },
    {
     "data": {
      "text/plain": [
       "246574.19711758065"
      ]
     },
     "execution_count": 33,
     "metadata": {},
     "output_type": "execute_result"
    }
   ],
   "source": [
    "@time foo()"
   ]
  },
  {
   "cell_type": "code",
   "execution_count": 34,
   "metadata": {},
   "outputs": [
    {
     "data": {
      "text/plain": [
       "foo2 (generic function with 1 method)"
      ]
     },
     "execution_count": 34,
     "metadata": {},
     "output_type": "execute_result"
    }
   ],
   "source": [
    "function foo2()\n",
    "    x::Float64 = 1 / rand()\n",
    "    for i = 2:10\n",
    "        x /= rand()\n",
    "    end\n",
    "    return x\n",
    "end"
   ]
  },
  {
   "cell_type": "code",
   "execution_count": 35,
   "metadata": {},
   "outputs": [
    {
     "name": "stdout",
     "output_type": "stream",
     "text": [
      "  0.016112 seconds (25.89 k allocations: 1.349 MiB)\n"
     ]
    },
    {
     "data": {
      "text/plain": [
       "9467.162482867509"
      ]
     },
     "execution_count": 35,
     "metadata": {},
     "output_type": "execute_result"
    }
   ],
   "source": [
    "@time foo2()"
   ]
  },
  {
   "cell_type": "code",
   "execution_count": null,
   "metadata": {},
   "outputs": [],
   "source": []
  }
 ],
 "metadata": {
  "kernelspec": {
   "display_name": "Julia 1.0.1",
   "language": "julia",
   "name": "julia-1.0"
  },
  "language_info": {
   "file_extension": ".jl",
   "mimetype": "application/julia",
   "name": "julia",
   "version": "1.0.1"
  }
 },
 "nbformat": 4,
 "nbformat_minor": 2
}
