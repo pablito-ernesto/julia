{
 "cells": [
  {
   "cell_type": "code",
   "execution_count": null,
   "metadata": {},
   "outputs": [],
   "source": [
    "## vim count_heads.jl\n",
    "function count_heads(n)\n",
    "    c::Int = 0\n",
    "    for i = 1:n\n",
    "        c += rand(Bool)\n",
    "    end\n",
    "    c\n",
    "end"
   ]
  },
  {
   "cell_type": "code",
   "execution_count": null,
   "metadata": {},
   "outputs": [],
   "source": [
    "## julia -p 2\n",
    "@everywhere include_string(Main, $(read(\"count_heads.jl\", String)), \"count_heads.jl\")\n",
    "\n",
    "a = @spawn count_heads(100000000)\n",
    "b = @spawn count_heads(100000000)\n",
    "@time fetch(a)+fetch(b)\n",
    "\n",
    "@time count_heads(200000000)\n"
   ]
  }
 ],
 "metadata": {
  "kernelspec": {
   "display_name": "Julia 1.0.1",
   "language": "julia",
   "name": "julia-1.0"
  },
  "language_info": {
   "file_extension": ".jl",
   "mimetype": "application/julia",
   "name": "julia",
   "version": "1.0.1"
  }
 },
 "nbformat": 4,
 "nbformat_minor": 2
}
