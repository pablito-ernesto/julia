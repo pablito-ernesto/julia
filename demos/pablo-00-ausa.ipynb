{
 "cells": [
  {
   "cell_type": "code",
   "execution_count": null,
   "metadata": {},
   "outputs": [],
   "source": [
    "using Pkg\n",
    "Pkg.add(\"CSV\")\n",
    "Pkg.add(\"Plots\")\n",
    "Pkg.add(\"Statistics\")\n",
    "Pkg.add(\"DataFrames\")\n",
    "Pkg.add(\"Query\")\n",
    "Pkg.build(\"CodecZlib\")\n",
    "using CSV\n",
    "using DataFrames\n",
    "using Query\n",
    "using Plots\n",
    "using Statistics\n"
   ]
  },
  {
   "cell_type": "markdown",
   "metadata": {},
   "source": [
    "## Data Set de AUSA\n",
    "    - Pasos de autos por los distintos puestos de peaje\n",
    "    - Años: 2015, 2016, 2017, 2018\n",
    "    - 3MM de registros\n",
    "### Preguntas\n",
    "    - ¿ Cuál es el peor dia para ir por las autopistas de AUSA ?\n",
    "    - ¿ Cuál es la peor hora ?\n",
    "### Muestra del Data Set\n",
    "~~~~\n",
    "periodo,fecha,dia,hora,hora_fin,estacion,tipo_vehiculo,forma_pago,cantidad_pasos\n",
    "2018,2018-01-01,LUNES,00:00:00,01:00:00,ALBERDI,LIVIANO,NO COBRADO,75\n",
    "2018,2018-01-01,LUNES,00:00:00,01:00:00,ALBERDI,LIVIANO,AUPASS,24\n",
    "~~~~"
   ]
  },
  {
   "cell_type": "code",
   "execution_count": null,
   "metadata": {},
   "outputs": [],
   "source": [
    "function normalize(df::DataFrame)\n",
    "    x = @from i in df begin\n",
    "        @select {periodo = i.periodo,\n",
    "        fecha=i.fecha,\n",
    "        dia=lowercase(i.dia),\n",
    "        hora_desde=i.hora,\n",
    "        hora_hasta=i.hora_fin,\n",
    "        estacion=i.estacion,\n",
    "        tipo_vehiculo=lowercase(i.tipo_vehiculo),\n",
    "        forma_pago=i.forma_pago,\n",
    "        cantidad_pasos=i.cantidad_pasos\n",
    "        }\n",
    "        @collect DataFrame\n",
    "    end\n",
    "    return x\n",
    "end\n"
   ]
  },
  {
   "cell_type": "code",
   "execution_count": null,
   "metadata": {},
   "outputs": [],
   "source": [
    "flujo = \"../examples/datos/flujo-vehicular-all-v0.1.csv\"\n",
    "df = CSV.File(flujo) |> DataFrame\n",
    "df = normalize(df)\n",
    "head(df)"
   ]
  },
  {
   "cell_type": "markdown",
   "metadata": {},
   "source": [
    "### Totales por dia"
   ]
  },
  {
   "cell_type": "code",
   "execution_count": null,
   "metadata": {},
   "outputs": [],
   "source": [
    "head(by(df, :dia, size))"
   ]
  },
  {
   "cell_type": "code",
   "execution_count": null,
   "metadata": {},
   "outputs": [],
   "source": [
    "# suma de cantidad_pasos por dia\n",
    "pasos_dia = by(df, :dia, d -> DataFrame(pasos = sum(d.cantidad_pasos)))\n",
    "pasos_dia = sort(pasos_dia,:pasos)\n",
    "\n",
    "# dibujar mas copado\n",
    "plot(size=(800,800),leg=false)\n",
    "x = pasos_dia.dia\n",
    "y = pasos_dia.pasos\n",
    "scatter(x,y,markersize=5)"
   ]
  }
 ],
 "metadata": {
  "kernelspec": {
   "display_name": "Julia 1.0.1",
   "language": "julia",
   "name": "julia-1.0"
  },
  "language_info": {
   "file_extension": ".jl",
   "mimetype": "application/julia",
   "name": "julia",
   "version": "1.0.1"
  }
 },
 "nbformat": 4,
 "nbformat_minor": 2
}
