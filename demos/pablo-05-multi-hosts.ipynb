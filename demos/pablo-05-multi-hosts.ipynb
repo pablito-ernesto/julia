{
 "cells": [
  {
   "cell_type": "code",
   "execution_count": null,
   "metadata": {},
   "outputs": [],
   "source": [
    "## julia --machine-file julia.hosts\n",
    "## https://console.aws.amazon.com/ec2/v2/home?region=us-east-1#Instances:search=julia;sort=tag:Name\n",
    "function monte_carlo_d(n::Int64)\n",
    "    @distributed (+) for i = 1:n\n",
    "        Int(rand(Bool))\n",
    "    end\n",
    "end\n",
    "\n",
    "function monte_carlo(n::Int64)\n",
    "    a = 0\n",
    "    for i = 1:n\n",
    "        a = a + Int(rand(Bool))\n",
    "    end\n",
    "    return a\n",
    "end"
   ]
  },
  {
   "cell_type": "code",
   "execution_count": null,
   "metadata": {},
   "outputs": [],
   "source": [
    "@time monte_carlo(10^9)\n",
    "\n",
    "@time monte_carlo_d(10^9)"
   ]
  }
 ],
 "metadata": {
  "kernelspec": {
   "display_name": "Julia 1.0.1",
   "language": "julia",
   "name": "julia-1.0"
  },
  "language_info": {
   "file_extension": ".jl",
   "mimetype": "application/julia",
   "name": "julia",
   "version": "1.0.1"
  }
 },
 "nbformat": 4,
 "nbformat_minor": 2
}
