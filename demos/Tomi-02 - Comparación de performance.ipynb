{
 "cells": [
  {
   "cell_type": "code",
   "execution_count": 26,
   "metadata": {},
   "outputs": [
    {
     "name": "stdout",
     "output_type": "stream",
     "text": [
      "\u001b[32m\u001b[1m Resolving\u001b[22m\u001b[39m package versions...\n",
      "\u001b[32m\u001b[1m  Updating\u001b[22m\u001b[39m `~/.julia/environments/v1.0/Project.toml`\n",
      "\u001b[90m [no changes]\u001b[39m\n",
      "\u001b[32m\u001b[1m  Updating\u001b[22m\u001b[39m `~/.julia/environments/v1.0/Manifest.toml`\n",
      "\u001b[90m [no changes]\u001b[39m\n",
      "\u001b[32m\u001b[1m Resolving\u001b[22m\u001b[39m package versions...\n",
      "\u001b[32m\u001b[1m  Updating\u001b[22m\u001b[39m `~/.julia/environments/v1.0/Project.toml`\n",
      "\u001b[90m [no changes]\u001b[39m\n",
      "\u001b[32m\u001b[1m  Updating\u001b[22m\u001b[39m `~/.julia/environments/v1.0/Manifest.toml`\n",
      "\u001b[90m [no changes]\u001b[39m\n"
     ]
    },
    {
     "ename": "LoadError",
     "evalue": "syntax: extra token \"bring\" after end of expression",
     "output_type": "error",
     "traceback": [
      "syntax: extra token \"bring\" after end of expression",
      ""
     ]
    }
   ],
   "source": [
    "using Pkg\n",
    "Pkg.add(\"BenchmarkTools\") # Paquete para hacer mediciones\n",
    "using BenchmarkTools\n",
    "Pkg.add(\"Libdl\") #Linking\n",
    "using Libdl  \n",
    "Pkg.add(\"Statistics\")  bring in statistical support for standard deviations\n",
    "using Statistics \n",
    "Pkg.add(\"Conda\")\n",
    "using Conda\n",
    "Conda.add(\"numpy\")\n",
    "Pkg.add(\"PyCall\")\n",
    "Pkg.build(\"PyCall\")\n",
    "using PyCall\n",
    "\n",
    "d = Dict()\n",
    "\n",
    "#Vector con numeros random entre 0 y 1. 10 millones\n",
    "a = rand(10^7)\n",
    "println(size(a))\n",
    "println(sum(a))\n",
    "@time sum(a)"
   ]
  },
  {
   "cell_type": "code",
   "execution_count": 27,
   "metadata": {},
   "outputs": [
    {
     "data": {
      "text/plain": [
       "3.755058"
      ]
     },
     "execution_count": 27,
     "metadata": {},
     "output_type": "execute_result"
    }
   ],
   "source": [
    "#EJEMPLO JULIA: \"FUNCION SUM\"\n",
    "j_bench = @benchmark sum($a)\n",
    "d[\"Julia built-in\"] = minimum(j_bench.times) / 1e6"
   ]
  },
  {
   "cell_type": "code",
   "execution_count": 28,
   "metadata": {},
   "outputs": [
    {
     "data": {
      "text/plain": [
       "7.525762"
      ]
     },
     "execution_count": 28,
     "metadata": {},
     "output_type": "execute_result"
    }
   ],
   "source": [
    "#EJEMPLO JULIA: \"A MANO\"\n",
    "function mysum(A)\n",
    "    s = 0.0\n",
    "    for a in A\n",
    "        s += a\n",
    "    end\n",
    "    s\n",
    "end\n",
    "j_bench_hand = @benchmark mysum($a)\n",
    "d[\"Julia hand-written\"] = minimum(j_bench_hand.times) / 1e6\n"
   ]
  },
  {
   "cell_type": "code",
   "execution_count": 29,
   "metadata": {},
   "outputs": [
    {
     "data": {
      "text/plain": [
       "3.74397"
      ]
     },
     "execution_count": 29,
     "metadata": {},
     "output_type": "execute_result"
    }
   ],
   "source": [
    "#EJEMPLO JULIA: \"A MANO CON simd(?)\"\n",
    "function mysum_simd(A)\n",
    "    s = 0.0 # s = zero(eltype(A))\n",
    "    @simd for a in A\n",
    "        s += a\n",
    "    end\n",
    "    s\n",
    "end\n",
    "j_bench_hand_simd = @benchmark mysum_simd($a)\n",
    "d[\"Julia hand-written simd\"] = minimum(j_bench_hand_simd.times) / 1e6"
   ]
  },
  {
   "cell_type": "code",
   "execution_count": 30,
   "metadata": {},
   "outputs": [
    {
     "name": "stderr",
     "output_type": "stream",
     "text": [
      "WARNING: redefining constant Clib\n"
     ]
    },
    {
     "data": {
      "text/plain": [
       "7.530362"
      ]
     },
     "execution_count": 30,
     "metadata": {},
     "output_type": "execute_result"
    }
   ],
   "source": [
    "#EJEMPLO EN C: \"A MANO\"\n",
    "C_code = \"\"\"\n",
    "            #include <stddef.h>\n",
    "            double c_sum(size_t n, double *X) {\n",
    "                double s = 0.0;\n",
    "                for (size_t i = 0; i < n; ++i) {\n",
    "                    s += X[i];\n",
    "                }\n",
    "                return s;\n",
    "            }\n",
    "        \"\"\"\n",
    "const Clib = tempname()   # make a temporary file\n",
    "open(`gcc -fPIC -O3 -msse3 -xc -shared -o $(Clib * \".\" * Libdl.dlext) -`, \"w\") do f\n",
    "    print(f, C_code)\n",
    "end\n",
    "c_sum(X::Array{Float64}) = ccall((\"c_sum\", Clib), Float64, (Csize_t, Ptr{Float64}), length(X), X)\n",
    "c_bench = @benchmark c_sum($a)\n",
    "d[\"C\"] = minimum(c_bench.times) / 1e6"
   ]
  },
  {
   "cell_type": "code",
   "execution_count": 31,
   "metadata": {},
   "outputs": [
    {
     "data": {
      "text/plain": [
       "3643.912064"
      ]
     },
     "execution_count": 31,
     "metadata": {},
     "output_type": "execute_result"
    }
   ],
   "source": [
    "##EJEMPLO PYTHON: \"PYSUM\"\n",
    "ENV[\"PYTHON\"]=\"/usr/bin/python\"\n",
    "pysum = pybuiltin(\"sum\")\n",
    "pysum(a) ≈ sum(a)\n",
    "py_list_bench = @benchmark $pysum($a)\n",
    "d[\"Python built-in\"] = minimum(py_list_bench.times) / 1e6"
   ]
  },
  {
   "cell_type": "code",
   "execution_count": 32,
   "metadata": {},
   "outputs": [
    {
     "data": {
      "text/plain": [
       "7.713897"
      ]
     },
     "execution_count": 32,
     "metadata": {},
     "output_type": "execute_result"
    }
   ],
   "source": [
    "##EJEMPLO PYTHON: \"PYTHON NUMPY\"\n",
    "numpy_sum = pyimport(\"numpy\")[\"sum\"]\n",
    "py_numpy_bench = @benchmark $numpy_sum($a)\n",
    "numpy_sum(a) ≈ sum(a)\n",
    "d[\"Python numpy\"] = minimum(py_numpy_bench.times) / 1e6"
   ]
  },
  {
   "cell_type": "code",
   "execution_count": 33,
   "metadata": {},
   "outputs": [
    {
     "data": {
      "text/plain": [
       "3676.107063"
      ]
     },
     "execution_count": 33,
     "metadata": {},
     "output_type": "execute_result"
    }
   ],
   "source": [
    "##PYTHON HAND WRITTEN\n",
    "py\"\"\"\n",
    "    def py_sum(A):\n",
    "        s = 0.0\n",
    "        for a in A:\n",
    "            s += a\n",
    "        return s\n",
    "    \"\"\"\n",
    "sum_py = py\"py_sum\"\n",
    "py_hand = @benchmark $sum_py($a)\n",
    "sum_py(a) ≈ sum(a)\n",
    "d[\"Python hand-written\"] = minimum(py_hand.times) / 1e6"
   ]
  },
  {
   "cell_type": "code",
   "execution_count": 34,
   "metadata": {},
   "outputs": [
    {
     "name": "stdout",
     "output_type": "stream",
     "text": [
      "😸\n",
      "Julia hand-written simd.....3.7\n",
      "Julia built-in..............3.8\n",
      "Julia hand-written..........7.5\n",
      "C...........................7.5\n",
      "Python numpy................7.7\n",
      "Python built-in..........3643.9\n",
      "Python hand-written......3676.1\n"
     ]
    }
   ],
   "source": [
    "#PARENTESIS \"ISAPPROX\"\n",
    "println(\"😸\")\n",
    "1 ≈ 1.00000001\n",
    "c_sum(a)\n",
    "c_sum(a) ≈ sum(a)\n",
    "#FIN DE PARENTESIS \"ISAPPROX\"\n",
    "\n",
    "#GR se usa para dar un frame a los graficos\n",
    "gr()\n",
    "\n",
    "t = c_bench.times / 1e6 # times in milliseconds\n",
    "#sacar el minimo de todos los tiempos y la desviacion estandar\n",
    "#std es la desviacion estandar\n",
    "m, σ = minimum(t), std(t)\n",
    "\n",
    "histogram(t, bins=500,\n",
    "    xlim=(m - 0.01, m + σ),\n",
    "    xlabel=\"milliseconds\", ylabel=\"count\", label=\"\")\n",
    "\n",
    "for (key, value) in sort(collect(d), by=last)\n",
    "    println(rpad(key, 25, \".\"), lpad(round(value; digits=1), 6, \".\"))\n",
    "end"
   ]
  }
 ],
 "metadata": {
  "kernelspec": {
   "display_name": "Julia 1.0.1",
   "language": "julia",
   "name": "julia-1.0"
  },
  "language_info": {
   "file_extension": ".jl",
   "mimetype": "application/julia",
   "name": "julia",
   "version": "1.0.1"
  }
 },
 "nbformat": 4,
 "nbformat_minor": 2
}
