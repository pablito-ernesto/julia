{
 "cells": [
  {
   "cell_type": "code",
   "execution_count": 1,
   "metadata": {},
   "outputs": [
    {
     "data": {
      "text/plain": [
       "sumar_dos_numeros (generic function with 1 method)"
      ]
     },
     "execution_count": 1,
     "metadata": {},
     "output_type": "execute_result"
    }
   ],
   "source": [
    "function sumar_dos_numeros(a, b)\n",
    "    return a + b\n",
    "end"
   ]
  },
  {
   "cell_type": "code",
   "execution_count": 3,
   "metadata": {},
   "outputs": [
    {
     "name": "stdout",
     "output_type": "stream",
     "text": [
      "\n",
      "; Function sumar_dos_numeros\n",
      "; Location: In[1]:2\n",
      "define i64 @julia_sumar_dos_numeros_35488(i64, i64) {\n",
      "top:\n",
      "; Function +; {\n",
      "; Location: int.jl:53\n",
      "  %2 = add i64 %1, %0\n",
      ";}\n",
      "  ret i64 %2\n",
      "}\n"
     ]
    }
   ],
   "source": [
    "code_llvm(sumar_dos_numeros, [Int, Int])"
   ]
  },
  {
   "cell_type": "code",
   "execution_count": 5,
   "metadata": {},
   "outputs": [
    {
     "name": "stdout",
     "output_type": "stream",
     "text": [
      "\n",
      "; Function sumar_dos_numeros\n",
      "; Location: In[1]:2\n",
      "define double @julia_sumar_dos_numeros_35559(double, double) {\n",
      "top:\n",
      "; Function +; {\n",
      "; Location: float.jl:395\n",
      "  %2 = fadd double %0, %1\n",
      ";}\n",
      "  ret double %2\n",
      "}\n"
     ]
    }
   ],
   "source": [
    "code_llvm(sumar_dos_numeros, [Float64, Float64])"
   ]
  },
  {
   "cell_type": "code",
   "execution_count": 6,
   "metadata": {},
   "outputs": [
    {
     "name": "stdout",
     "output_type": "stream",
     "text": [
      "\t.text\n",
      "; Function sumar_dos_numeros {\n",
      "; Location: In[1]:2\n",
      "; Function +; {\n",
      "; Location: In[1]:2\n",
      "\tleaq\t(%rdi,%rsi), %rax\n",
      ";}\n",
      "\tretq\n",
      "\tnopw\t%cs:(%rax,%rax)\n",
      ";}\n"
     ]
    }
   ],
   "source": [
    "code_native(sumar_dos_numeros, [Int, Int])"
   ]
  },
  {
   "cell_type": "code",
   "execution_count": 7,
   "metadata": {},
   "outputs": [
    {
     "name": "stdout",
     "output_type": "stream",
     "text": [
      "\t.text\n",
      "; Function sumar_dos_numeros {\n",
      "; Location: In[1]:2\n",
      "; Function +; {\n",
      "; Location: In[1]:2\n",
      "\tvaddsd\t%xmm1, %xmm0, %xmm0\n",
      ";}\n",
      "\tretq\n",
      "\tnopw\t%cs:(%rax,%rax)\n",
      ";}\n"
     ]
    }
   ],
   "source": [
    "code_native(sumar_dos_numeros, [Float64, Float64])"
   ]
  },
  {
   "cell_type": "code",
   "execution_count": 9,
   "metadata": {},
   "outputs": [
    {
     "name": "stdout",
     "output_type": "stream",
     "text": [
      "1\n"
     ]
    }
   ],
   "source": [
    "println(4%3)"
   ]
  },
  {
   "cell_type": "code",
   "execution_count": null,
   "metadata": {},
   "outputs": [],
   "source": []
  }
 ],
 "metadata": {
  "kernelspec": {
   "display_name": "Julia 1.0.1",
   "language": "julia",
   "name": "julia-1.0"
  },
  "language_info": {
   "file_extension": ".jl",
   "mimetype": "application/julia",
   "name": "julia",
   "version": "1.0.1"
  }
 },
 "nbformat": 4,
 "nbformat_minor": 2
}
